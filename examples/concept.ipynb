{
 "cells": [
  {
   "cell_type": "code",
   "execution_count": null,
   "metadata": {},
   "outputs": [],
   "source": [
    "from nevernegative import SimpleScanner, SimpleScannerConfig\n",
    "from nevernegative.crop import HoughCropperConfig\n",
    "from nevernegative.color import HistogramScalingConfig\n",
    "# or\n",
    "from nevernegative.config import HoughCropperConfig, HistogramScalingConfig\n",
    "from nevernegative.layers import Resize, Blur, Threshold, EdgeDetect, HoughCrop\n",
    "from nevernegative.callbacks import PlottingCallback\n",
    "import numpy as np"
   ]
  },
  {
   "cell_type": "markdown",
   "metadata": {},
   "source": [
    "## Configuration Concepts"
   ]
  },
  {
   "cell_type": "markdown",
   "metadata": {},
   "source": [
    "### Version 1"
   ]
  },
  {
   "cell_type": "code",
   "execution_count": null,
   "metadata": {},
   "outputs": [],
   "source": [
    "config = SimpleScannerConfig(\n",
    "    cropping=HoughCropperConfig(\n",
    "        min_distance=30,\n",
    "        peak_threshold_ratio=0.2,\n",
    "        thresholding={\"type\": \"mean\"}, # required\n",
    "        edge_detection={\"type\": \"canny\"}, # required\n",
    "        transformations=[ # optional\n",
    "            Resize(ratio=0.5),\n",
    "            Blur(),\n",
    "        ],\n",
    "        # callbacks=[PlottingCallback()],\n",
    "    )\n",
    "    color=HistogramScalingConfig(\n",
    "        ...\n",
    "        callbacks=[],\n",
    "    ),\n",
    "    # or\n",
    "    color=None,\n",
    "    pool_size=1,\n",
    "    callbacks=[PlottingCallbackConfig()]\n",
    ")"
   ]
  },
  {
   "cell_type": "markdown",
   "metadata": {},
   "source": [
    "### Version 2: Dependency Tree"
   ]
  },
  {
   "cell_type": "code",
   "execution_count": null,
   "metadata": {},
   "outputs": [],
   "source": [
    "config = SimpleScannerConfig(\n",
    "    transformations={\n",
    "        \"resized\": Resize(\"original\", ratio=0.5),\n",
    "        \"blurred\": Blur(\"resized\", (9, 9)),\n",
    "        \"cropped\": HoughCrop(\n",
    "            \"blurred\",\n",
    "            transformed_image=\"original\", # or None\n",
    "            min_distance=30,\n",
    "            peak_threshold_ratio=0.2,\n",
    "            thresholding={\"type\": \"mean\"}, # required\n",
    "            edge_detection={\"type\": \"canny\"}, # required\n",
    "            # callbacks=[PlottingCallback()],\n",
    "        ),\n",
    "        \"balanced\": HistogramScalingConfig(\n",
    "            source=\"cropped\"\n",
    "            # callbacks=[],\n",
    "        )\n",
    "    },\n",
    "    pool_size=10,\n",
    "    callbacks=[PlottingCallback()]\n",
    ")"
   ]
  },
  {
   "cell_type": "markdown",
   "metadata": {},
   "source": [
    "### Version 3: Layered Functions"
   ]
  },
  {
   "cell_type": "code",
   "execution_count": null,
   "metadata": {},
   "outputs": [],
   "source": [
    "scanner = SimpleScannerConfig(\n",
    "    transformations=[\n",
    "        CheckerboardUnwarp(),\n",
    "        HoughUnwarp(),\n",
    "        Resize(name=\"resized\", ratio=0.5),\n",
    "        Blur((9, 9)),\n",
    "        HoughCrop(\n",
    "            name=\"cropped\",\n",
    "            apply_to=\"original\", # or None\n",
    "            min_distance=30,\n",
    "            peak_threshold_ratio=0.2,\n",
    "            thresholder=Threshold(type=\"mean\"),\n",
    "            edge_detector=EdgeDetect(type=\"canny\"),\n",
    "            callbacks=[PlottingCallback()],\n",
    "        ),\n",
    "        HistogramScalingConfig()\n",
    "    ],\n",
    "    pool_size=10,\n",
    "    cache_intermediate=False,\n",
    "    callbacks=[PlottingCallback()]\n",
    ")"
   ]
  },
  {
   "cell_type": "code",
   "execution_count": null,
   "metadata": {},
   "outputs": [],
   "source": [
    "config = SimpleScannerConfig(\n",
    "    dewarping=HoughBarrelDewarp( # CheckboardDewarp\n",
    "        num_points=10,\n",
    "        batch_average=False,\n",
    "        center=\"center\" # or [1000, 2000]\n",
    "    ),\n",
    "    cropping=HoughCrop(\n",
    "        min_distance=30,\n",
    "        hough_peak_ratio=0.2,\n",
    "        thresholder=Threshold(type=\"mean\"),\n",
    "        edge_detector=EdgeDetect(type=\"canny\"),\n",
    "        transformations=[\n",
    "            Resize(ratio=0.5),\n",
    "            Blur((9, 9)),\n",
    "        ],\n",
    "        callbacks=[PlottingCallback()],\n",
    "    ),\n",
    "    color_balancing=HistogramScaler(\n",
    "        invert=True,\n",
    "        padding=0.1,\n",
    "    ),\n",
    "    pool_size=10,\n",
    "    cache_intermediate=False,\n",
    "    callbacks=[PlottingCallback()]\n",
    ")"
   ]
  },
  {
   "cell_type": "markdown",
   "metadata": {},
   "source": [
    "## Runtime Flow"
   ]
  },
  {
   "cell_type": "code",
   "execution_count": null,
   "metadata": {},
   "outputs": [],
   "source": [
    "scanner = SimpleScanner(config)\n",
    "\n",
    "result = scanner.array(np.array([[1, 2, 3]]))\n",
    "result = scanner.file(\"path/to/file.cr2\", \"processed/file.png\", raw=True)\n",
    "\n",
    "scanner.glob(\"folder/*\", \"processed/\")"
   ]
  }
 ],
 "metadata": {
  "language_info": {
   "name": "python"
  }
 },
 "nbformat": 4,
 "nbformat_minor": 2
}
