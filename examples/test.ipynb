{
 "cells": [
  {
   "cell_type": "code",
   "execution_count": null,
   "metadata": {},
   "outputs": [],
   "source": [
    "from nevernegative.layers.crop.config.hough import HoughCropConfig\n",
    "from nevernegative.layers.dewarp.config.hough import HoughTransformDewarperConfig\n",
    "from nevernegative.layers.common.config.threshold import ThresholdConfig\n",
    "from nevernegative.layers.common.config.edge import EdgeDetectConfig\n",
    "from nevernegative.layers.common.config.resize import ResizeConfig\n",
    "from nevernegative.layers.color.config.histogram_scaling import HistogramScalingColorBalancerConfig\n",
    "from nevernegative.callbacks.save import SaveImageCallback\n",
    "from nevernegative.scanner.simple import SimpleScanner\n",
    "from nevernegative.layers.common.config.blur import BlurConfig\n",
    "from nevernegative.scanner.config.simple import SimpleScannerConfig"
   ]
  },
  {
   "cell_type": "code",
   "execution_count": null,
   "metadata": {},
   "outputs": [],
   "source": [
    "config = ScannerConfig()\n",
    "\n",
    "\n",
    "\n",
    "config = SimpleScannerConfig(\n",
    "    dewarping=HoughTransformDewarperConfig(\n",
    "        num_points=10,\n",
    "        batch_average=False,\n",
    "        center=\"center\"\n",
    "    ),\n",
    "    cropping=HoughCropConfig(\n",
    "        min_distance=30,\n",
    "        hough_peak_ratio=0.2,\n",
    "        thresholder=ThresholdConfig(type=\"mean\"),\n",
    "        edge_detector=EdgeDetectConfig(type=\"canny\"),\n",
    "        transformations=[\n",
    "            ResizeConfig(ratio=0.5),\n",
    "            BlurConfig((9, 9)),\n",
    "        ],\n",
    "    ),\n",
    "    color_balancing=HistogramScalingColorBalancerConfig(\n",
    "        invert=True,\n",
    "        padding=0.1,\n",
    "    ),\n",
    "    pool_size=10,\n",
    "    cache_intermediate=False,\n",
    "    callbacks=[SaveImageCallback(\"results/\", suffix=\".png\")]\n",
    ")"
   ]
  },
  {
   "cell_type": "code",
   "execution_count": null,
   "metadata": {},
   "outputs": [],
   "source": [
    "scanner = SimpleScanner(config)"
   ]
  }
 ],
 "metadata": {
  "language_info": {
   "name": "python"
  }
 },
 "nbformat": 4,
 "nbformat_minor": 2
}
